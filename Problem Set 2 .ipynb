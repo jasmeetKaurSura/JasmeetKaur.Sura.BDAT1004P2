{
 "cells": [
  {
   "cell_type": "markdown",
   "id": "f21f45ec",
   "metadata": {},
   "source": [
    "# Problem Set 2"
   ]
  },
  {
   "cell_type": "markdown",
   "id": "81701318",
   "metadata": {},
   "source": [
    "## Python\n"
   ]
  },
  {
   "cell_type": "markdown",
   "id": "400eb3d5",
   "metadata": {},
   "source": [
    "## Question 1\n"
   ]
  },
  {
   "cell_type": "markdown",
   "id": "449c259c",
   "metadata": {},
   "source": [
    "#### Consider the following Python module:\n",
    "<br> a = 0\n",
    "<br> def b():\n",
    "    <br> global a\n",
    "    <br> a = c(a)\n",
    "    <br> def c(a):\n",
    "<br>  return a + 2\n",
    "\n",
    "#### After importing the module into the interpreter, you execute:\n",
    "<br>  b()\n",
    "<br>  b()\n",
    "<br>  b()\n",
    "<br>  a\n",
    "\n",
    "#### What value is displayed when the last expression (a) is evaluated? Explain your  answer by indicating what happens in every executed statement"
   ]
  },
  {
   "cell_type": "code",
   "execution_count": 22,
   "id": "0f26ecde",
   "metadata": {},
   "outputs": [],
   "source": [
    "a = 0\n",
    "def b():\n",
    "    global a\n",
    "    a = c(a)\n",
    "def c(a):\n",
    "    return a + 2"
   ]
  },
  {
   "cell_type": "code",
   "execution_count": 23,
   "id": "68419039",
   "metadata": {},
   "outputs": [
    {
     "name": "stdout",
     "output_type": "stream",
     "text": [
      "6\n"
     ]
    }
   ],
   "source": [
    "b()\n",
    "b()\n",
    "b()\n",
    "\n",
    "print(a)"
   ]
  },
  {
   "cell_type": "markdown",
   "id": "f145ac6c",
   "metadata": {},
   "source": [
    "## Question 2\n"
   ]
  },
  {
   "cell_type": "markdown",
   "id": "22a4d3d8",
   "metadata": {},
   "source": [
    "#### Function fileLength(), given to you, takes the name of a file as input and returns  the length of the file:\n",
    "<br> fileLength('midterm.py')\n",
    "<br>284\n",
    "<br> fileLength('idterm.py')\n",
    "<br>Traceback (most recent call last):\n",
    "<br>File \"<pyshell#34>\", line 1, in <module>\n",
    " <br>fileLength('idterm.py')\n",
    "<br>File \"/Users/me/midterm.py\", line 3, in fileLength\n",
    "<br> infile = open(filename)\n",
    "<br>FileNotFoundError: [Errno 2] No such file or directory: \n",
    "<br>'idterm.py'\n",
    "    \n",
    "#### As shown above, if the file cannot be found by the interpreter or if it cannot be read as a text file, an exception will be raised. Modify function fileLength() so that a friendly message is printed instead:\n",
    "    \n",
    "<br> fileLength('midterm.py')\n",
    "<br>358\n",
    "<br> fileLength('idterm.py')\n",
    "<br>File idterm.py not found."
   ]
  },
  {
   "cell_type": "code",
   "execution_count": 47,
   "id": "e73f31df",
   "metadata": {},
   "outputs": [],
   "source": [
    "def file_length(file_name):\n",
    "    try:\n",
    "        infile = open(file_name)\n",
    "        contents = infile.read()\n",
    "        infile.close()\n",
    "        print(\"filelength('\",file_name,\"')\")\n",
    "        print(len(contents))\n",
    "    except FileNotFoundError:\n",
    "        print(\"filelength('\",file_name,\"')\")\n",
    "        print(\"file\", file_name,\" does not found!\")\n",
    "        print(\"Please check the file name!\")\n",
    "    except:\n",
    "        print(\"something went wrong\")\n",
    "        \n",
    "\n"
   ]
  },
  {
   "cell_type": "code",
   "execution_count": 49,
   "id": "f7be51ae",
   "metadata": {},
   "outputs": [
    {
     "name": "stdout",
     "output_type": "stream",
     "text": [
      "filelength(' midterm.py ')\n",
      "127\n",
      "filelength(' idterm.py ')\n",
      "file idterm.py  does not found!\n",
      "Please check the file name!\n"
     ]
    }
   ],
   "source": [
    "file_length('midterm.py')\n",
    "file_length('idterm.py')"
   ]
  },
  {
   "cell_type": "markdown",
   "id": "000c0fad",
   "metadata": {},
   "source": [
    "## Question 3\n"
   ]
  },
  {
   "cell_type": "markdown",
   "id": "036d5d10",
   "metadata": {},
   "source": [
    "#### Write a class named Marsupial that can be used as shown below:\n",
    "<br> m = Marsupial()\n",
    "<br>  m.put_in_pouch('doll')\n",
    "<br>  m.put_in_pouch('firetruck')\n",
    "<br>  m.put_in_pouch('kitten')\n",
    "<br>  m.pouch_contents()\n",
    "<br> ['doll', 'firetruck', 'kitten']\n",
    "\n",
    "#### Now write a class named Kangaroo as a subclass of Marsupial that inherits all the attributes of Marsupial and also:\n",
    "\n",
    "#### a. extends the Marsupial __init__ constructor to take, as input, the coordinates x and y of the Kangaroo object,\n",
    "#### b, supports method jump that takes number values dx and dy as input and moves the kangaroo by dx units along the x-axis and by dy units along the y\u0002axis, and\n",
    "#### c. overloads the __str__ operator so it behaves as shown below.\n",
    "<br> k = Kangaroo(0,0)\n",
    "<br> print(k)\n",
    "<br>I am a Kangaroo located at coordinates (0,0)\n",
    "<br> k.put_in_pouch('doll')\n",
    "<br> k.put_in_pouch('firetruck')\n",
    "<br> k.put_in_pouch('kitten')\n",
    "<br> k.pouch_contents()\n",
    "<br>['doll', 'firetruck', 'kitten']\n",
    "<br> k.jump(1,0)\n",
    "<br> k.jump(1,0)\n",
    "<br> k.jump(1,0)\n",
    "<br> print(k)\n",
    "<br>I am a Kangaroo located at coordinates (3,0)\n"
   ]
  },
  {
   "cell_type": "code",
   "execution_count": 95,
   "id": "328453e6",
   "metadata": {},
   "outputs": [],
   "source": [
    "class Marsupial: #Write a class named Marsupial \n",
    "    def __init__(self):\n",
    "        self.inPouch =[]\n",
    "    \n",
    "    def put_in_pouch(self,entry):\n",
    "        self.inPouch.append(entry)\n",
    "        \n",
    "    def pouch_contents(self):\n",
    "        print(self.inPouch) \n",
    "        \n",
    "class Extender(Marsupial):\n",
    "    'class that extends __init__'\n",
    "    def __init__(self,xcord=0, ycord=0):\n",
    "        self.inPouch =[]\n",
    "        self.x = xcord\n",
    "        self.y = ycord   \n",
    "  \n",
    "        \n",
    "class Kangaroo(Marsupial): #write a class named Kangaroo as a subclass of Marsupial that inherits all the attributes of Marsupial\n",
    "    def __init__(self,xcord=0, ycord=0):\n",
    "        self.inPouch =[]\n",
    "        self.x = xcord\n",
    "        self.y = ycord \n",
    "    def jump(self,dx,dy):\n",
    "        self.x += dx\n",
    "        self.y += dy \n",
    "    def __str__(self):\n",
    "        print(\"k=kangaroo({},{})\" .format( self.x, self.y  ))\n",
    "        print(\"I am a Kangaroo located at coordinates ({},{})\". format( self.x, self.y  ))\n",
    "        \n",
    "     "
   ]
  },
  {
   "cell_type": "code",
   "execution_count": 96,
   "id": "0db9c9bc",
   "metadata": {},
   "outputs": [
    {
     "name": "stdout",
     "output_type": "stream",
     "text": [
      "['doll', 'firetruck', 'kitten']\n"
     ]
    }
   ],
   "source": [
    "m = Marsupial()\n",
    "m.put_in_pouch('doll')\n",
    "m.put_in_pouch('firetruck')\n",
    "m.put_in_pouch('kitten')\n",
    "m.pouch_contents()\n"
   ]
  },
  {
   "cell_type": "code",
   "execution_count": 100,
   "id": "45bba731",
   "metadata": {},
   "outputs": [
    {
     "name": "stdout",
     "output_type": "stream",
     "text": [
      "k=kangaroo(0,0)\n",
      "I am a Kangaroo located at coordinates (0,0)\n"
     ]
    }
   ],
   "source": [
    "\n",
    " k = Kangaroo(0,0)\n",
    "k.__str__()\n"
   ]
  },
  {
   "cell_type": "code",
   "execution_count": 98,
   "id": "4b807481",
   "metadata": {},
   "outputs": [
    {
     "name": "stdout",
     "output_type": "stream",
     "text": [
      "['doll', 'firetruck', 'kitten']\n"
     ]
    }
   ],
   "source": [
    "k.put_in_pouch('doll')\n",
    "k.put_in_pouch('firetruck')\n",
    "k.put_in_pouch('kitten')\n",
    "k.pouch_contents()\n"
   ]
  },
  {
   "cell_type": "code",
   "execution_count": 101,
   "id": "c70d568b",
   "metadata": {},
   "outputs": [
    {
     "name": "stdout",
     "output_type": "stream",
     "text": [
      "k=kangaroo(4,0)\n",
      "I am a Kangaroo located at coordinates (4,0)\n"
     ]
    }
   ],
   "source": [
    "k.jump(1,0)\n",
    "k.jump(1,0)\n",
    "k.jump(1,0)\n",
    "\n",
    "k.__str__()"
   ]
  },
  {
   "cell_type": "markdown",
   "id": "7a61c763",
   "metadata": {},
   "source": [
    "## Question 4\n"
   ]
  },
  {
   "cell_type": "markdown",
   "id": "515205f7",
   "metadata": {},
   "source": [
    "#### Write function collatz() that takes a positive integer x as input and prints the Collatz sequence starting at x. A Collatz sequence is obtained by repeatedly applying this rule to the previous number x in the sequence:\n",
    "<br> x = \n",
    "<br> 𝑥/2 𝑖𝑓 𝑥 𝑖𝑠 𝑒𝑣𝑒𝑛\n",
    "<br> 3𝑥 + 1 𝑖𝑓 𝑥 𝑖𝑠 𝑜𝑑𝑑\n",
    "#### Your function should stop when the sequence gets to number 1. Your implementation must be recursive, without any loops\n",
    "\n",
    "<br> collatz(1)\n",
    "<br>1\n",
    "<br> collatz(10)\n",
    "<br>10\n",
    "<br>5\n",
    "<br>16\n",
    "<br>8\n",
    "<br>4\n",
    "<br>2\n",
    "<br>1\n"
   ]
  },
  {
   "cell_type": "code",
   "execution_count": 2,
   "id": "ad40e758",
   "metadata": {},
   "outputs": [],
   "source": [
    "def collatz(x):\n",
    "    print(x)\n",
    "    if x==1:\n",
    "        exit()\n",
    "    elif x%2 == 0:\n",
    "        collatz(int(x/2)) \n",
    "    else: \n",
    "        collatz((3*x+1)) \n",
    "        "
   ]
  },
  {
   "cell_type": "code",
   "execution_count": 3,
   "id": "436d01ac",
   "metadata": {},
   "outputs": [
    {
     "name": "stdout",
     "output_type": "stream",
     "text": [
      "1\n"
     ]
    }
   ],
   "source": [
    "collatz(1)"
   ]
  },
  {
   "cell_type": "code",
   "execution_count": 3,
   "id": "8344e61e",
   "metadata": {},
   "outputs": [
    {
     "name": "stdout",
     "output_type": "stream",
     "text": [
      "10\n",
      "5\n",
      "16\n",
      "8\n",
      "4\n",
      "2\n",
      "1\n"
     ]
    }
   ],
   "source": [
    "collatz(10)"
   ]
  },
  {
   "cell_type": "markdown",
   "id": "95eca485",
   "metadata": {},
   "source": [
    "## Question 5\n"
   ]
  },
  {
   "cell_type": "markdown",
   "id": "47121570",
   "metadata": {},
   "source": [
    "#### Write a recursive method binary() that takes a non-negative  integer n and prints the binary representation of integer n.\n",
    "<br> binary(0)\n",
    "<br>0\n",
    "<br> binary(1)\n",
    "<br>1\n",
    "<br> binary(3)\n",
    "<br>11\n",
    "<br> binary(9)\n",
    "<br>1001\n"
   ]
  },
  {
   "cell_type": "code",
   "execution_count": 33,
   "id": "3487ed81",
   "metadata": {},
   "outputs": [],
   "source": [
    "bin = []\n",
    "def binary(integer):\n",
    "    Q, R = int(integer/2), integer%2\n",
    "  \n",
    "    bin.append(R)\n",
    "    if Q != 0:\n",
    "        binary(Q)   #recall the function till qoutient gets zero\n",
    "    else:\n",
    "        x=\"\"\n",
    "        list.reverse(bin) #reverse the bin[] just to get MSB to LSB\n",
    "        for char in bin:\n",
    "            x+=str(char)\n",
    "        print(x)\n",
    "        list.clear(bin)\n",
    "\n"
   ]
  },
  {
   "cell_type": "code",
   "execution_count": 91,
   "id": "92e34611",
   "metadata": {},
   "outputs": [
    {
     "name": "stdout",
     "output_type": "stream",
     "text": [
      "0\n"
     ]
    }
   ],
   "source": [
    "binary(0)"
   ]
  },
  {
   "cell_type": "code",
   "execution_count": 36,
   "id": "5ede0299",
   "metadata": {},
   "outputs": [
    {
     "name": "stdout",
     "output_type": "stream",
     "text": [
      "1\n"
     ]
    }
   ],
   "source": [
    "binary(1)"
   ]
  },
  {
   "cell_type": "code",
   "execution_count": 88,
   "id": "f0466ca8",
   "metadata": {},
   "outputs": [
    {
     "name": "stdout",
     "output_type": "stream",
     "text": [
      "11\n"
     ]
    }
   ],
   "source": [
    "binary(3)"
   ]
  },
  {
   "cell_type": "code",
   "execution_count": 89,
   "id": "1e8bc585",
   "metadata": {},
   "outputs": [
    {
     "name": "stdout",
     "output_type": "stream",
     "text": [
      "1001\n"
     ]
    }
   ],
   "source": [
    "binary(9)"
   ]
  },
  {
   "cell_type": "markdown",
   "id": "8e5af9bd",
   "metadata": {},
   "source": [
    "## Question 6\n"
   ]
  },
  {
   "cell_type": "markdown",
   "id": "6edf1006",
   "metadata": {},
   "source": [
    "#### Implement a class named HeadingParser that can be used to parse an HTML  document, and retrieve and print all the headings in the document. You should  implement your class as a subclass of HTMLParser, defined in Standard Library  module html.parser. When fed a string containing HTML code, your class should  print the headings, one per line and in the order in which they appear in the  document. Each heading should be indented as follows: an h1 heading should have indentation 0, and h2 heading should have indentation 1, etc. Test your  implementation using w3c.html.\n",
    "<br> infile = open('w3c.html')\n",
    "<br> content = infile.read()\n",
    "<br> infile.close()\n",
    "<br> hp = HeadingParser()\n",
    "<br> hp.feed(content)\n",
    "<br>W3C Mission\n",
    "<br>Principles"
   ]
  },
  {
   "cell_type": "code",
   "execution_count": 11,
   "id": "211b6dd6",
   "metadata": {},
   "outputs": [],
   "source": [
    "from html.parser import HTMLParser \n",
    "\n",
    "class HeadingParser(HTMLParser):\n",
    "   \n",
    "    def handle_starttag(self, tag, attrs):\n",
    "        self.tags=tag\n",
    "\n",
    "    def handle_data(self, data):    \n",
    "  \n",
    "        if('h1' == self.tags):\n",
    "            print(data)\n",
    "        elif('h2' == self.tags):\n",
    "            print(\" \",data)\n",
    "        elif('h3' == self.tags):\n",
    "            print(\"  \",data)\n",
    "        elif('h4' == self.tags):\n",
    "            print(\"   \",data)\n",
    "        elif('h5' == self.tags):\n",
    "            print(\"   \",data)\n",
    "        elif('h6' == self.tags):\n",
    "            print(\"   \",data)\n",
    "            \n",
    "            \n",
    "    \n",
    "\n"
   ]
  },
  {
   "cell_type": "code",
   "execution_count": 10,
   "id": "699d7dd5",
   "metadata": {},
   "outputs": [
    {
     "name": "stdout",
     "output_type": "stream",
     "text": [
      "W3C Mission\n",
      "\n",
      "\n",
      "  Principles\n",
      "  \n",
      "\n"
     ]
    }
   ],
   "source": [
    "infile = open('w3c.html') \n",
    "content = infile.read() \n",
    "infile.close() \n",
    "hp = HeadingParser()\n",
    "hp.feed(content)"
   ]
  },
  {
   "cell_type": "markdown",
   "id": "b481b4d0",
   "metadata": {},
   "source": [
    "## Question 7\n"
   ]
  },
  {
   "cell_type": "markdown",
   "id": "bc919fbd",
   "metadata": {},
   "source": [
    "### Implement recursive function webdir() that takes as input: a URL (as a string) and  non-negative integers depth and indent. Your function should visit every web  page reachable from the starting URL web page in depth clicks or less, and print each web page's URL. As shown below, indentation, specified by indent, should  be used to indicate the depth of a URL.\n",
    "<br> \n",
    "webdir('http://reed.cs.depaul.edu/lperkovic/one.html '\n",
    ", 2, 0)\n",
    "<br>http://reed.cs.depaul.edu/lperkovic/one.html \n",
    " <br>http://reed.cs.depaul.edu/lperkovic/csc242/test2.html\n",
    "<br> http://reed.cs.depaul.edu/lperkovic/csc242/test4.html\n",
    "<br> http://reed.cs.depaul.edu/lperkovic/csc242/test3.html\n",
    "<br> http://reed.cs.depaul.edu/lperkovic/csc242/test4.html\n"
   ]
  },
  {
   "cell_type": "markdown",
   "id": "848d678d",
   "metadata": {},
   "source": [
    "## Question 8\n",
    "\n"
   ]
  },
  {
   "cell_type": "markdown",
   "id": "6f5dd8ba",
   "metadata": {},
   "source": [
    "#### Write SQL queries on the below database table that return: \n",
    "#### a) All the temperature data.\n",
    "#### b) All the cities, but without repetition.\n",
    "#### c) All the records for India.\n",
    "#### d) All the Fall records.\n",
    "#### e) The city, country, and season for which the average rainfall is between 200  and 400 millimeters.\n",
    "#### f) The city and country for which the average Fall temperature is above 20  degrees, in increasing temperature order.\n",
    "#### g) The total annual rainfall for Cairo.\n",
    "#### h) The total rainfall for each season."
   ]
  },
  {
   "cell_type": "code",
   "execution_count": 3,
   "id": "954687aa",
   "metadata": {},
   "outputs": [
    {
     "data": {
      "text/plain": [
       "<sqlite3.Cursor at 0x28be03c4c70>"
      ]
     },
     "execution_count": 3,
     "metadata": {},
     "output_type": "execute_result"
    }
   ],
   "source": [
    "import sqlite3\n",
    "con = sqlite3.connect('web2.db')\n",
    "cur = con.cursor()\n",
    "cur.execute(\"CREATE TABLE Temp3 (City text, Country text, Season text, Temperature numeric, Rainfall numeric)\")\n"
   ]
  },
  {
   "cell_type": "code",
   "execution_count": 4,
   "id": "df8dd95f",
   "metadata": {},
   "outputs": [
    {
     "data": {
      "text/plain": [
       "<sqlite3.Cursor at 0x28be03c4c70>"
      ]
     },
     "execution_count": 4,
     "metadata": {},
     "output_type": "execute_result"
    }
   ],
   "source": [
    "cur.execute(\"INSERT INTO Temp3 VALUES ('Mumbai', 'India', 'Winter', 24.8, 5.9)\")\n",
    "cur.execute(\"INSERT INTO Temp3 VALUES ('Mumbai', 'India', 'Spring', 28.4, 16.2)\")\n",
    "cur.execute(\"INSERT INTO Temp3 VALUES ('Mumbai', 'India', 'Summer', 27.9, 1549.4)\")\n",
    "cur.execute(\"INSERT INTO Temp3 VALUES ('Mumbai', 'India', 'Fall', 27.6, 346.0)\")\n",
    "cur.execute(\"INSERT INTO Temp3 VALUES ('London', 'United Kingdom', 'Winter', 4.2, 207.7)\")\n",
    "cur.execute(\"INSERT INTO Temp3 VALUES ('London', 'United Kingdom', 'Spring', 8.3, 169.6)\")\n",
    "cur.execute(\"INSERT INTO Temp3 VALUES ('London', 'United Kingdom', 'Summer', 15.7, 157.0)\")\n",
    "cur.execute(\"INSERT INTO Temp3 VALUES ('London', 'United Kingdom', 'Fall', 10.4, 218.5)\")\n",
    "cur.execute(\"INSERT INTO Temp3 VALUES ('Cairo', 'Egypt', 'Winter', 13.6, 16.5)\")\n",
    "cur.execute(\"INSERT INTO Temp3 VALUES ('Cairo', 'Egypt', 'Spring', 20.7, 6.5)\")\n",
    "cur.execute(\"INSERT INTO Temp3 VALUES ('Cairo', 'Egypt', 'Summer', 27.7, 0.1)\")\n",
    "cur.execute(\"INSERT INTO Temp3 VALUES ('Cairo', 'Egypt', 'Fall', 22.2, 4.5)\")\n"
   ]
  },
  {
   "cell_type": "markdown",
   "id": "668ed2a9",
   "metadata": {},
   "source": [
    "#### a) All the temperature data."
   ]
  },
  {
   "cell_type": "code",
   "execution_count": 8,
   "id": "c30160d3",
   "metadata": {},
   "outputs": [
    {
     "name": "stdout",
     "output_type": "stream",
     "text": [
      "(24.8,)\n",
      "(28.4,)\n",
      "(27.9,)\n",
      "(27.6,)\n",
      "(4.2,)\n",
      "(8.3,)\n",
      "(15.7,)\n",
      "(10.4,)\n",
      "(13.6,)\n",
      "(20.7,)\n",
      "(27.7,)\n",
      "(22.2,)\n"
     ]
    }
   ],
   "source": [
    "import sqlite3\n",
    "con = sqlite3.connect('web2.db')\n",
    "cur.execute('SELECT DISTINCT CITY FROM Temp2')\n",
    "\n",
    "cur.execute('SELECT Temperature FROM Temp3')\n",
    "Temp =cur.fetchall()\n",
    "for i in Temp:\n",
    "    print(i)\n"
   ]
  },
  {
   "cell_type": "markdown",
   "id": "835c295e",
   "metadata": {},
   "source": [
    "#### b) All the cities, but without repetition.\n"
   ]
  },
  {
   "cell_type": "code",
   "execution_count": 7,
   "id": "8f629a57",
   "metadata": {},
   "outputs": [
    {
     "name": "stdout",
     "output_type": "stream",
     "text": [
      "('Mumbai',)\n",
      "('London',)\n",
      "('Cairo',)\n"
     ]
    }
   ],
   "source": [
    "import sqlite3\n",
    "con = sqlite3.connect('web2.db')\n",
    "cur.execute('SELECT DISTINCT CITY FROM Temp3')\n",
    "\n",
    "Lst= cur.fetchall()\n",
    "for i in Lst:\n",
    "    print(i)"
   ]
  },
  {
   "cell_type": "markdown",
   "id": "29e022bf",
   "metadata": {},
   "source": [
    "#### c) All the records for India."
   ]
  },
  {
   "cell_type": "code",
   "execution_count": 6,
   "id": "e4524424",
   "metadata": {},
   "outputs": [
    {
     "name": "stdout",
     "output_type": "stream",
     "text": [
      "('Mumbai', 'India', 'Winter', 24.8, 5.9)\n",
      "('Mumbai', 'India', 'Spring', 28.4, 16.2)\n",
      "('Mumbai', 'India', 'Summer', 27.9, 1549.4)\n",
      "('Mumbai', 'India', 'Fall', 27.6, 346)\n"
     ]
    }
   ],
   "source": [
    "import sqlite3\n",
    "con = sqlite3.connect('web2.db')\n",
    "cur.execute('SELECT * FROM Temp3 WHERE country=\"India\"')\n",
    "\n",
    "Lst= cur.fetchall()\n",
    "for i in Lst:\n",
    "    print(i)"
   ]
  },
  {
   "cell_type": "markdown",
   "id": "7039db23",
   "metadata": {},
   "source": [
    "#### d) All the Fall records."
   ]
  },
  {
   "cell_type": "code",
   "execution_count": 9,
   "id": "addf3887",
   "metadata": {},
   "outputs": [
    {
     "name": "stdout",
     "output_type": "stream",
     "text": [
      "('Mumbai', 'India', 'Fall', 27.6, 346)\n",
      "('London', 'United Kingdom', 'Fall', 10.4, 218.5)\n",
      "('Cairo', 'Egypt', 'Fall', 22.2, 4.5)\n"
     ]
    }
   ],
   "source": [
    "import sqlite3\n",
    "con = sqlite3.connect('web2.db')\n",
    "cur.execute('SELECT * FROM Temp3 WHERE Season=\"Fall\"')\n",
    "\n",
    "Lst= cur.fetchall()\n",
    "for i in Lst:\n",
    "    print(i)"
   ]
  },
  {
   "cell_type": "markdown",
   "id": "b8cb67c4",
   "metadata": {},
   "source": [
    "#### e) The city, country, and season for which the average rainfall is between 200  and 400 millimeters."
   ]
  },
  {
   "cell_type": "code",
   "execution_count": 10,
   "id": "02f9abb0",
   "metadata": {},
   "outputs": [
    {
     "name": "stdout",
     "output_type": "stream",
     "text": [
      "('Mumbai', 'India', 'Fall')\n",
      "('London', 'United Kingdom', 'Winter')\n",
      "('London', 'United Kingdom', 'Fall')\n"
     ]
    }
   ],
   "source": [
    "import sqlite3\n",
    "con = sqlite3.connect('web2.db')\n",
    "cur.execute('SELECT City, Country, Season FROM Temp3 WHERE Rainfall BETWEEN 200 and 400')\n",
    "\n",
    "Lst= cur.fetchall()\n",
    "for i in Lst:\n",
    "    print(i)"
   ]
  },
  {
   "cell_type": "markdown",
   "id": "1d1ac2a7",
   "metadata": {},
   "source": [
    "#### f) The city and country for which the average Fall temperature is above 20  degrees, in increasing temperature order."
   ]
  },
  {
   "cell_type": "code",
   "execution_count": 16,
   "id": "67e38fde",
   "metadata": {},
   "outputs": [
    {
     "name": "stdout",
     "output_type": "stream",
     "text": [
      "('Mumbai', 'India')\n",
      "('Cairo', 'Egypt')\n"
     ]
    }
   ],
   "source": [
    "import sqlite3\n",
    "con = sqlite3.connect('web2.db')\n",
    "cur.execute('SELECT City, Country FROM Temp3 WHERE Season=\"Fall\" AND Temperature >20')\n",
    " \n",
    "Lst= cur.fetchall()\n",
    "for i in Lst:\n",
    "    print(i)"
   ]
  },
  {
   "cell_type": "markdown",
   "id": "c23c148e",
   "metadata": {},
   "source": [
    "#### g) The total annual rainfall for Cairo."
   ]
  },
  {
   "cell_type": "code",
   "execution_count": 11,
   "id": "6153061a",
   "metadata": {},
   "outputs": [
    {
     "name": "stdout",
     "output_type": "stream",
     "text": [
      "(27.6,)\n"
     ]
    }
   ],
   "source": [
    "import sqlite3\n",
    "con = sqlite3.connect('web2.db')\n",
    "cur.execute('SELECT SUM(Rainfall) FROM Temp3 WHERE City=\"Cairo\"')\n",
    "\n",
    "Lst= cur.fetchall()\n",
    "for i in Lst:\n",
    "    print(i)"
   ]
  },
  {
   "cell_type": "markdown",
   "id": "cba13bf9",
   "metadata": {},
   "source": [
    "#### h) The total rainfall for each season."
   ]
  },
  {
   "cell_type": "code",
   "execution_count": 13,
   "id": "7a764fd4",
   "metadata": {},
   "outputs": [
    {
     "name": "stdout",
     "output_type": "stream",
     "text": [
      "(569.0, 'Fall')\n",
      "(192.29999999999998, 'Spring')\n",
      "(1706.5, 'Summer')\n",
      "(230.1, 'Winter')\n"
     ]
    }
   ],
   "source": [
    "import sqlite3\n",
    "con = sqlite3.connect('web2.db')\n",
    "cur.execute('SELECT SUM(Rainfall), Season FROM Temp3 GROUP BY Season')\n",
    "\n",
    "Lst= cur.fetchall()\n",
    "for i in Lst:\n",
    "    print(i)"
   ]
  },
  {
   "cell_type": "markdown",
   "id": "da094393",
   "metadata": {},
   "source": [
    "## Question 9\n"
   ]
  },
  {
   "cell_type": "markdown",
   "id": "a3efcb85",
   "metadata": {},
   "source": [
    "Suppose list words is defined as follows:\n",
    "<br> words = ['The', 'quick', 'brown', 'fox', 'jumps', 'over', \n",
    "'the', 'lazy', 'dog']\n",
    "<br>Write list comprehension expressions that use list words and generate the following \n",
    "<br>lists:\n",
    "<br>a) ['THE', 'QUICK', 'BROWN', 'FOX', 'JUMPS', 'OVER', 'THE', \n",
    "'LAZY', 'DOG']\n",
    "<br>b) ['the', 'quick', 'brown', 'fox', 'jumps', 'over', 'the', \n",
    "'lazy', 'dog']\n",
    "<br>c) [3, 5, 5, 3, 5, 4, 3, 4, 3] \n",
    "<br>(the list of lengths of words in list \n",
    "words).\n",
    "<br>d) [['THE', 'the', 3], ['QUICK', 'quick', 5], ['BROWN', \n",
    "'brown', 5], ['FOX', 'fox', 3], ['JUMPS', 'jumps', 5], \n",
    "['OVER', 'over', 4], ['THE', 'the', 3], ['LAZY', 'lazy', \n",
    "4], ['DOG', 'dog', 3]]\n",
    "<br>(the list containing a list for every word of list \n",
    "words, where each list contains the word in uppercase and lowercase and the \n",
    "length of the word.)\n",
    "<br>e) ['The', 'quick', 'brown', 'fox', 'jumps', 'over', 'the', \n",
    "'lazy', 'dog']\n",
    "<br>(the list of words in list words containing 4 or more \n",
    "characters."
   ]
  },
  {
   "cell_type": "code",
   "execution_count": 5,
   "id": "9d2f7666",
   "metadata": {},
   "outputs": [
    {
     "name": "stdout",
     "output_type": "stream",
     "text": [
      "['THE', 'QUICK', 'BROWN', 'FOX', 'JUMPS', 'OVER', 'THE', 'LAZY', 'DOG']\n",
      "\n",
      "['the', 'quick', 'brown', 'fox', 'jumps', 'over', 'the', 'lazy', 'dog']\n",
      "\n",
      "[3, 5, 5, 3, 5, 4, 3, 4, 3]\n",
      "\n",
      "[['THE', 'the', 3], ['QUICK', 'quick', 5], ['BROWN', 'brown', 5], ['FOX', 'fox', 3], ['JUMPS', 'jumps', 5], ['OVER', 'over', 4], ['THE', 'the', 3], ['LAZY', 'lazy', 4], ['DOG', 'dog', 3]]\n",
      "\n",
      "['quick', 'brown', 'jumps', 'over', 'lazy']\n"
     ]
    }
   ],
   "source": [
    "words= ['The', 'quick', 'brown', 'fox', 'jumps', 'over', 'the', 'lazy', 'dog']\n",
    "up = [w.upper() for w in words]\n",
    "\n",
    "low= [w.lower() for w in words]\n",
    "\n",
    "length= [len(w) for w in words]\n",
    "\n",
    "lst = [[w.upper(), w.lower(), len(w)] for w in words]\n",
    "\n",
    "lst1 = [w for w in words if len(w)>=4]\n",
    "print(up)\n",
    "print( )\n",
    "print(low)\n",
    "print( )\n",
    "print(length)\n",
    "print( )\n",
    "print(lst)\n",
    "print( ) # added extra print out put just for presenting output clearly\n",
    "print(lst1)\n",
    "\n",
    "\n"
   ]
  }
 ],
 "metadata": {
  "kernelspec": {
   "display_name": "Python 3",
   "language": "python",
   "name": "python3"
  },
  "language_info": {
   "codemirror_mode": {
    "name": "ipython",
    "version": 3
   },
   "file_extension": ".py",
   "mimetype": "text/x-python",
   "name": "python",
   "nbconvert_exporter": "python",
   "pygments_lexer": "ipython3",
   "version": "3.8.8"
  }
 },
 "nbformat": 4,
 "nbformat_minor": 5
}
